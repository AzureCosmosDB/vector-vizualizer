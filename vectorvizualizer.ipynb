{
 "cells": [
  {
   "cell_type": "markdown",
   "metadata": {},
   "source": [
    "# Jupyter Notebook - Azure OpenAI Text Embedding Visualization"
   ]
  },
  {
   "cell_type": "markdown",
   "metadata": {},
   "source": [
    "This Notebook helps to visualize how embeddings work. To use this notebook, enter the values for the config.env file then run the notebook to see how the words in the array below are plotted in a 3D graph. Then modify the words to see how similar or dissimilar they are semantically by where they are plotted in a 3D space."
   ]
  },
  {
   "cell_type": "code",
   "execution_count": null,
   "metadata": {},
   "outputs": [],
   "source": [
    "# Install required libraries\n",
    "%pip install openai matplotlib numpy scikit-learn\n",
    "%pip install ipykernel\n",
    "%pip install python-dotenv"
   ]
  },
  {
   "cell_type": "code",
   "execution_count": 11,
   "metadata": {},
   "outputs": [],
   "source": [
    "# Import libraries\n",
    "from openai import AzureOpenAI\n",
    "import numpy as np\n",
    "from dotenv import dotenv_values\n",
    "import matplotlib.pyplot as plt\n",
    "from sklearn.decomposition import PCA\n",
    "#from mpl_toolkits.mplot3d import Axes3D"
   ]
  },
  {
   "cell_type": "code",
   "execution_count": 12,
   "metadata": {},
   "outputs": [],
   "source": [
    "# specify the name of the .env file name \n",
    "env_name = \"my-config.env\"  #\"config.env\"\n",
    "config = dotenv_values(env_name)\n",
    "\n",
    "# OpenAI configuration\n",
    "OPENAI_API_ENDPOINT = config['openai_endpoint']\n",
    "OPENAI_API_VERSION = config['openai_api_version'] # at the time of authoring, the api version is 2024-02-01\n",
    "OPENAI_KEY = config['openai_key']\n",
    "EMBEDDING_MODEL = config['openai_embeddings_model']\n",
    "EMBEDDING_MODEL_DEPLOYMENT = config['openai_embeddings_deployment']\n",
    "EMBEDDING_DIMENSIONS = int(config['openai_embeddings_dimensions'])\n",
    "\n",
    "# Configure Azure OpenAI client\n",
    "AOAI_client = AzureOpenAI(\n",
    "    azure_endpoint = OPENAI_API_ENDPOINT, \n",
    "    api_version = OPENAI_API_VERSION,\n",
    "    api_key = OPENAI_KEY\n",
    "    )\n",
    "\n",
    "# Function to generate embeddings\n",
    "def get_embedding(text: str) -> np.ndarray:\n",
    "    \"\"\"\n",
    "    Fetch embeddings for a given text from Azure OpenAI API.\n",
    "    \"\"\"\n",
    "    try:\n",
    "        response = AOAI_client.embeddings.create(\n",
    "            input = text, \n",
    "            dimensions = EMBEDDING_DIMENSIONS,\n",
    "            model = EMBEDDING_MODEL_DEPLOYMENT)\n",
    "        \n",
    "        embeddings = response.model_dump()\n",
    "        \n",
    "        return np.array(embeddings['data'][0]['embedding'])\n",
    "    \n",
    "    except Exception as e:\n",
    "        print(f\"Error generating embedding: {e}\")\n",
    "        return None\n",
    "\n",
    "\n",
    "# 3D Scatter Plot\n",
    "def plot_embeddings_3d(embeddings_3d, labels):\n",
    "    \"\"\"\n",
    "    Plots embeddings in a 3D scatter plot.\n",
    "    \"\"\"\n",
    "    fig = plt.figure(figsize=(10, 7))\n",
    "    ax = fig.add_subplot(111, projection='3d')\n",
    "\n",
    "    # Scatter plot\n",
    "    for i, label in enumerate(labels):\n",
    "        x, y, z = embeddings_3d[i]\n",
    "        ax.scatter(x, y, z, label=label)\n",
    "        ax.text(x, y, z, label, fontsize=10)\n",
    "\n",
    "    ax.set_title(\"3D Visualization of Similar Words Embeddings\")\n",
    "    ax.set_xlabel(\"PCA1\")\n",
    "    ax.set_ylabel(\"PCA2\")\n",
    "    ax.set_zlabel(\"PCA3\")\n",
    "    ax.legend(loc='center left', bbox_to_anchor=(1.05, 0.5), title=\"Words\")  # Adjust position\n",
    "    plt.tight_layout()\n",
    "    plt.show()\n"
   ]
  },
  {
   "cell_type": "code",
   "execution_count": null,
   "metadata": {},
   "outputs": [],
   "source": [
    "# Array of similar or dissimilar words\n",
    "texts = [\n",
    "    \"dog\", \"cat\", \"pet\", \"animal\", \"puppy\", \"kitten\", \"Surströmming\"\n",
    "]\n",
    "\n",
    "# Generate embeddings for texts\n",
    "embeddings = []\n",
    "for text in texts:\n",
    "    embedding = get_embedding(text)\n",
    "    if embedding is not None:\n",
    "        embeddings.append(embedding)\n",
    "\n",
    "embeddings = np.array(embeddings)\n",
    "\n",
    "# Reduce dimensionality to 3D using PCA\n",
    "pca = PCA(n_components=3)\n",
    "embeddings_3d = pca.fit_transform(embeddings)\n",
    "\n",
    "# Plot the embeddings in 3D\n",
    "plot_embeddings_3d(embeddings_3d, texts)"
   ]
  }
 ],
 "metadata": {
  "kernelspec": {
   "display_name": ".venv",
   "language": "python",
   "name": "python3"
  },
  "language_info": {
   "codemirror_mode": {
    "name": "ipython",
    "version": 3
   },
   "file_extension": ".py",
   "mimetype": "text/x-python",
   "name": "python",
   "nbconvert_exporter": "python",
   "pygments_lexer": "ipython3",
   "version": "3.12.8"
  }
 },
 "nbformat": 4,
 "nbformat_minor": 2
}
